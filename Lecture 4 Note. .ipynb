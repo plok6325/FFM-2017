{
 "cells": [
  {
   "cell_type": "markdown",
   "metadata": {},
   "source": [
    "#  FFM Lecture 4 note \n",
    "\n",
    "https://www.ricequant.com/community/topic/708/"
   ]
  },
  {
   "cell_type": "markdown",
   "metadata": {},
   "source": [
    "#  The CAPM \n",
    "\n",
    "资本资产定价模型\n",
    " \n",
    "\n",
    "资本资产定价模型（Capital Asset Pricing Model，CAPM)\n",
    "\n",
    "CAPM模型的提出 \n",
    "　　\n",
    "马科维茨(Markowitz，1952)的分散投资与效率组合投资理论第一次以严谨的数理工具为手段向人们展示了一个风险厌恶的投资者在众多风险资产中如何构建最优资产组合的方法。应该说，这一理论带有很强的规范(normative)意味，告诉了投资者应该如何进行投资选择。但问题是，在20世纪50年代，即便有了当时刚刚诞生的电脑的帮助，在实践中应用马科维茨的理论仍然是一项烦琐、令人生厌的高难度工作；或者说，与投资的现实世界脱节得过于严重，进而很难完全被投资者采用——美国普林斯顿大学的鲍莫尔(william Baumol)在其1966年一篇探讨马科维茨一托宾体系的论文中就谈到，按照马科维茨的理论，即使以较简化的模式出发，要从1500只证券中挑选出有效率的投资组合，当时每运行一次电脑需要耗费150~300美元，而如果要执行完整的马科维茨运算，所需的成本至少是前述金额的50倍；而且所有这些还必须有一个前提，就是分析师必须能够持续且精确地估计标的证券的预期报酬、风险及相关系数，否则整个运算过程将变得毫无意义。\n",
    "\n",
    "正是由于这一问题的存在，从20世纪60年代初开始，以夏普(w．Sharpe，1964)，林特纳(J．Lintner，1965)和莫辛(J．Mossin，1966)为代表的一些经济学家开始从实证的角度出发，探索证券投资的现实，即马科维茨的理论在现实中的应用能否得到简化?如果投资者都采用马科维茨资产组合理论选择最优资产组合，那么资产的均衡价格将如何在收益与风险的权衡中形成?或者说，在市场均衡状态下，资产的价格如何依风险而确定?\n",
    "\n",
    "这些学者的研究直接导致了资本资产定价模型(capital asset pricing model，CAPM)的产生。作为基于风险资产期望收益均衡基础上的预测模型之一，CAPM阐述了在投资者都采用马科维茨的理论进行投资管理的条件下市场均衡状态的形成，把资产的预期收益与预期风险之间的理论关系用一个简单的线性关系表达出来了，即认为一个资产的预期收益率与衡量该资产风险的一个尺度β值之间存在正相关关系。应该说，作为一种阐述风险资产均衡价格决定的理论，单一指数模型，或以之为基础的CAPM不仅大大简化了投资组合选择的运算过程，使马科维茨的投资组合选择理论朝现实世界的应用迈进了一大步，而且也使得证券理论从以往的定性分析转入定量分析，从规范性转入实证性，进而对证券投资的理论研究和实际操作，甚至整个金融理论与实践的发展都产生了巨大影响，成为现代金融学的理论基础。\n",
    "\n",
    "\n",
    "当然，近几十年，作为资本市场均衡理论模型关注的焦点，CAPM的形式已经远远超越了夏普、林特纳和莫辛提出的传统形式，有了很大的发展，如套利定价模型、跨时资本资产定价模型、消费资本资产定价模型等，目前已经形成了一个较为系统的资本市场均衡理论体系。\n",
    "\n",
    "**资产定价模型公式**\n",
    "\n",
    "夏普发现单个股票或者股票组合的预期回报率(Expected Return)的公式如下：\n",
    "\n",
    "$　\\bar{r_a}=r_f + \\beta_a \\times (\\bar{r_m}-\\bar{r_f})$\n",
    "\n",
    "\n",
    "其中，rf(Risk free rate),是无风险回报率，纯粹的货币时间价值；\n",
    "\n",
    "\n",
    "$\\beta_a  $是证券的Beta系数，\n",
    "\n",
    "$ \\beta$ 的计算方法为 ![beta](https://wikimedia.org/api/rest_v1/media/math/render/svg/ad96c0e64a21672848f892f362133ccf4a7aa973)\n",
    "![](https://wikimedia.org/api/rest_v1/media/math/render/svg/9d1cffa6aff2484fa58ea259530e52f05283c7b8)\n",
    "\n",
    "$\\bar{r_m}$是市场期望回报率 (Expected Market Return)，\n",
    "\n",
    "\n",
    "$ \\bar{r_m}-\\bar{r_f}$是股票市场溢价 (Equity Market Premium).\n",
    "\n",
    "\n",
    "CAPM公式中的右边第一个是无风险收益率，比较典型的无风险回报率是10年期的美国政府债券。如果股票投资者需要承受额外的风险，那么他将需要在无风险回报率的基础上多获得相应的溢价。那么，股票市场溢价（equity market premium）就等于市场期望回报率减去无风险回报率。证券风险溢价就是股票市场溢价和一个β系数的乘积。"
   ]
  },
  {
   "cell_type": "markdown",
   "metadata": {},
   "source": [
    "# Beta 系数\n",
    "\n",
    "贝塔系数概述\n",
    "\n",
    "贝塔系数（Beta Coefficient）是一种评估证券系统性风险的工具，用以度量一种证券或一个投资证券组合相对总体市场的波动性。在股票、基金等投资术语中常见。\n",
    "\n",
    "\n",
    "贝塔系数是统计学上的概念，它所反映的是某一投资对象相对于大盘的表现情况。其绝对值越大，显示其收益变化幅度相对于大盘的变化幅度越大；绝对值越小，显示其变化幅度相对于大盘越小。如果是负值，则显示其变化的方向与大盘的变化方向相反；大盘涨的时候它跌，大盘跌的时候它涨。由于我们投资于投资基金的目的是为了取得专家理财的服务,以取得优于被动投资于大盘的表现情况，这一指标可以作为考察基金经理降低投资波动性风险的能力。 在计算贝塔系数时,除了基金的表现数据外,还需要有作为反映大盘表现的指标。\n",
    "\n",
    "\n",
    "贝塔系数应用\n",
    "\n",
    "贝塔系数反映了个股对市场（或大盘）变化的敏感性，也就是个股与大盘的相关性或通俗说的“股性”。可根据市场走势预测选择不同的贝塔系数的证券从而获得额外收益，特别适合作波段操作使用。当有很大把握预测到一个大牛市或大盘某个大涨阶段的到来时，应该选择那些高贝塔系数的证券，它将成倍地放大市场收益率，为你带来高额的收益；相反在一个熊市到来或大盘某个下跌阶段到来时，你应该调整投资结构以抵御市场风险，避免损失，办法是选择那些低贝塔系数的证券。\n",
    "\n",
    "\n",
    "为避免非系统风险，可以在相应的市场走势下选择那些相同或相近贝塔系数的证券进行投资组合。比如：一支个股贝塔系数为1.3，说明当大盘涨1%时，它可能涨1.3%，反之亦然；但如果一支个股贝塔系数为-1.3%时，说明当大盘涨1%时，它可能跌1.3%，同理，大盘如果跌1%，它有可能涨1.3%。\n",
    "\n",
    "\n",
    "贝塔系数是反映单个证券或证券组合相对于证券市场系统风险变动程度的一个重要指标。通过对贝塔系数的计算,投资者可以得出单个证券或证券组合未来将面临的市场风险状况.通常贝塔系数是用历史数据来计算的，而历史数据计算出来的贝塔系数是否具有一定的稳定性，将直接影响贝塔系数的应用效果。利用CHOW检验方法对我国证券市场已经实现股份全流通的上市公司进行检验后发现，大部分上市公司在实现股份全流通后，其贝塔系数并没有发生显著的改变，用贝塔系数进行系统风险的预测可靠性还是相当高的。\n",
    "    \n",
    "    "
   ]
  },
  {
   "cell_type": "markdown",
   "metadata": {},
   "source": [
    "# Application of CAPM(1)\n",
    "\n",
    "\n",
    "## Analysts  stocks’ returns  分析股票价格\n",
    "\n",
    "\n",
    "$$ E[R_s]  = \\alpha + R_f+ \\beta \\times (E[R_m]-R_f)$$\n",
    "\n",
    "$ R_s $ Return of specific stock. \n",
    "\n",
    "高 high alpha （capm 和实际的差） 现在价格比 预估值 低   买入 \n",
    "\n"
   ]
  },
  {
   "cell_type": "markdown",
   "metadata": {},
   "source": [
    "# Application of CAPM(2)\n",
    "\n",
    "## Capital Budgeting Decisions 分析需不需要投资 \n",
    "\n",
    "1. 计算 Net Present Value (NPV) \n",
    "\n",
    "和之前Lec2 的计算类似 需要 统一时间 。 计算是否要投资。  \n",
    "\n",
    "**假设 **：  \n",
    "\n",
    "- $\\beta_i= 1.75$\n",
    "- $R_f = 4%$\n",
    "- $E[R_M]$ = 12%$ \n",
    "\n",
    "得到 E[Ri] = 4+1.75*8 = 4+14= 18%.\n",
    "\n",
    "这是出现另一个 Project ,这个project 第一年 投入 1000； 第三年 收回300 第四年收回 600 第五年收回 900. \n",
    "\n",
    "**问** 投这个project 还是投股票 ？ ？ \n",
    "\n",
    "\n",
    "\n",
    "Hence $R = 0.18$\n",
    "\n",
    "比较\n",
    "\n",
    "$$ \\frac{300}{(1+R)^3}  + \\frac{600}{(1+R)^4} + \\frac{900}{(1+R)^5}  $$  和 1000 的大小即可 \n"
   ]
  },
  {
   "cell_type": "code",
   "execution_count": 3,
   "metadata": {
    "collapsed": true
   },
   "outputs": [],
   "source": [
    "def pv(amount,rate,year):\n",
    "    return amount/((1+rate)**year)"
   ]
  },
  {
   "cell_type": "code",
   "execution_count": 10,
   "metadata": {
    "collapsed": false
   },
   "outputs": [
    {
     "name": "stdout",
     "output_type": "stream",
     "text": [
      "net present valeu = -114.539118498Hence, reject the project \n"
     ]
    }
   ],
   "source": [
    "netpv = pv(300,0.18,3) + pv(600,0.18,4)+pv(900,0.18,5)-1000\n",
    "print 'net present valeu = '+str(netpv) +'Hence, reject the project '\n",
    "\n"
   ]
  },
  {
   "cell_type": "markdown",
   "metadata": {},
   "source": [
    "#  CAPM in Practice\n",
    "\n",
    "- 理论化市场\n",
    "- 用指数来代表理论市场进行计算\n",
    "- Index models使用的是历史数据#\n",
    "\n",
    "\n",
    "# The Index Mode\n",
    "The Index Model 加了两项 ， $\\alpha$ 和   firm-specific risk $\\epsilon $\n",
    "\n",
    "$$R_i − R_f = α_i + β_i[R_M − R_f] + \\epsilon_o $$ \n",
    "\n",
    "分析微软股票 \n",
    "\n",
    "Market Index 是S&P \n",
    "\n",
    "Risk free is  国债 \n",
    "\n",
    "用1997  - 2017 的数据来拟合 \n",
    "\n",
    "https://www.ricequant.com/community/topic/708/\n",
    "\n",
    "![microsoft](https://github.com/plok6325/FFM-2017/raw/master/context/microsoft.png)\n"
   ]
  },
  {
   "cell_type": "markdown",
   "metadata": {},
   "source": [
    "上图的方程为： \n",
    "$$R_i − R_f = α_i + β_i[R_M − R_f] + \\epsilon_o $$ \n",
    "\n",
    "$R_2 $ 误差为  0.42 *42% of the variation in MSFT is\n",
    "systemic – the rest is firm-specific*\n",
    "\n",
    "斜率 是 $ \\beta $\n",
    "\n",
    "截距 是  $ \\alpha$  "
   ]
  },
  {
   "cell_type": "markdown",
   "metadata": {},
   "source": [
    "- ABC Internet stock has a volatility of 90% and a beta of 3. The\n",
    "market portfolio has an expected return of 14% and a volatility of\n",
    "15%. The risk-free rate is 7%\n",
    "\n",
    "\n",
    "- What is the equilibrium expected return of ABC stock?\n",
    "\n",
    "\n",
    "- What is the proportion of ABC Internet’s variance which is\n",
    "diversified away in the market portfolio"
   ]
  },
  {
   "cell_type": "code",
   "execution_count": 15,
   "metadata": {
    "collapsed": false
   },
   "outputs": [],
   "source": [
    "E = 3*(0.14-0.07)"
   ]
  },
  {
   "cell_type": "markdown",
   "metadata": {},
   "source": [
    "# 两个 stock 如何获得市场中性 ？\n",
    "理论支持：\n",
    "$$\\beta_p = w_1\\beta_1 + w_2\\beta_2$$\n",
    "\n",
    "stock 1 $\\beta = 0.7$ \n",
    "\n",
    "\n",
    "stock 2 $\\beta = 1.3$\n",
    "\n",
    "\n",
    "构建一个组合， no market risk  。  （no market risk means does not effect by market）\n",
    "\n",
    "$$\\beta_p = 0 $$\n",
    "$$= w_1 \\times \\beta_1 + w_2 \\times \\beta_2 = 0$$\n",
    "\n",
    "附加条件 $\\sum weight =1 $\n",
    "\n",
    "带入得到 ： $w_1 = 2.17 $ and $w_2 = -1.17$"
   ]
  },
  {
   "cell_type": "markdown",
   "metadata": {},
   "source": [
    "# 市场中性策略\n",
    "\n",
    "市场中性策略是指同时构建多头和空头头寸以对冲市场风险，在市场不论上涨或者下跌的环境下均能获得稳定收益的一种投资策略，市场中性策略主要依据统计套利的量化分析。\n",
    "\n",
    " \n",
    "市场中性策略的方法\n",
    "\n",
    "(1)阿尔法套利：做多具有阿尔法值的证券产品，做空指数期货，实现回避系统性风险下的超越市场指数的阿尔法收益。\n",
    "\n",
    "\n",
    "\n",
    "(2)贝塔套利：期指市场上做空，在股票市场上构建拟合300指数的成份股，赚取其中的价差，这种被动型的套利。"
   ]
  }
 ],
 "metadata": {
  "anaconda-cloud": {},
  "kernelspec": {
   "display_name": "Python 2",
   "language": "python",
   "name": "python2"
  },
  "language_info": {
   "codemirror_mode": {
    "name": "ipython",
    "version": 2
   },
   "file_extension": ".py",
   "mimetype": "text/x-python",
   "name": "python",
   "nbconvert_exporter": "python",
   "pygments_lexer": "ipython2",
   "version": "2.7.11"
  }
 },
 "nbformat": 4,
 "nbformat_minor": 1
}
