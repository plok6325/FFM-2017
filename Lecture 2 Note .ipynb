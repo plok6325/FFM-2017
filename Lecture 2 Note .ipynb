{
 "cells": [
  {
   "cell_type": "markdown",
   "metadata": {},
   "source": [
    "# FFM  Lecture 2 Notes "
   ]
  },
  {
   "cell_type": "markdown",
   "metadata": {},
   "source": [
    "# What is Asset ? \n",
    "\n",
    "Sequence of cash flow. \n",
    "<img src = 'https://github.com/plok6325/FFM-2017/raw/master/context/Asset%20cashflow.png'>"
   ]
  },
  {
   "cell_type": "markdown",
   "metadata": {},
   "source": [
    " 计算Asset 价格的时候需要统一 **时间 **和统一 **货币** \n",
    " \n",
    "不考虑时间跨度和货币的计算是没有意义的"
   ]
  },
  {
   "cell_type": "markdown",
   "metadata": {},
   "source": [
    "# Future Value and Present Value \n",
    "\n",
    "\n",
    "\n",
    "计算Interest的时候有两种计算方式 \n",
    "\n",
    "1. simple Interest. （单利）  \n",
    "2. compound Interest. （复利）把利息也计算进本金\n",
    "\n",
    "Hence  \n",
    "\n",
    "Simple $ FV =  PV \\times(1+R\\times T) $\n",
    "\n",
    "\n",
    "Compound $FV = PV \\times (1+R)^T$\n",
    "\n",
    "为了计算方便 通常也会 移项 表示 前两个 公式 \n",
    "复利：  $PV = \\frac{FV}{(1+R)^T}$\n",
    "\n",
    "前面的系数 $\\frac{1}{(1+R)^T}$也叫作 discount factor for period T \n"
   ]
  },
  {
   "cell_type": "markdown",
   "metadata": {
    "collapsed": true
   },
   "source": [
    "# Zero Coupon Bond 零息债券\n",
    "\n",
    "![zero coupon bond](http://www.financeformulas.net/formulaimages/Zero%20Coupon%20Bond%201.gif)\n",
    "![example ](http://www.tradestation.com/en/education/university/markets-and-trading-resource-center/articles/bonds/~/media/Images/TradeStation/Education/University/Markets%20and%20Trading/images/ABondVocabulary_zero_coupon_bond.gif)\n",
    "零息债券(Zero Coupon Bond)\n",
    "\n",
    "**零息债券概述**  \n",
    "  \n",
    "并不是一直没有利息， 而是指持有期没有利息， 而是在到期时一次偿还  \n",
    "债券按付息方式分类，可分为零息债券、贴现债券、附息债券、固定利率债券 、浮动利率债券 。一次还本付息债券是指在债务期间不支付利息，只在债券到期后按规定的利率一次性向持有者支付利息并还本的债券。我国的一次还本付息债券可视为零息债券。\n",
    "\n",
    "零息债券是指以贴现方式发行，不附息票，而于到期日时按面值一次性支付本利的债券。\n",
    "\n",
    "\n",
    "零息债券是一种较为常见的金融工具创新。但是，税法的变化影响了市场对它的热情。零息债券不支付利息，象财政储蓄债券一样，按票面进行大幅折扣后出售。债券到期时，利息和购买价格相加之和就是债券的面值。零息债券的波动性非常大，而且还有一个不吸引人的地方：投资者的零息债券投资不会获得现金形式的利息收入，但也要列入投资者的应税收入中。\n",
    "\n",
    "\n",
    "零息债券发行时按低于票面金额的价格发行，而在兑付时按照票面金额兑付，其利息隐含在发行价格和兑付价格之间。零息债券的最大特点是避免了投资者所获得利息的再投资风险。零息债券是不派息的债券，投资者购买时可获折扣（即以低于面值的价格购买），在到期时收取面值。由于这些特性，零息债券对利率的改变特别敏感。一般而言，债券价格与利率变动呈反比关系。\n",
    "\n",
    "\n",
    "零息债券在国际债券融资市场中也占有相当大的份额，我国在国内债券市场上也曾成功地发行过零息债券，但其债券期限较短，一般少于一年。"
   ]
  },
  {
   "cell_type": "markdown",
   "metadata": {},
   "source": [
    "# 贴现债券概述 discount bond\n",
    "在国外，贴水发行的折现债券有两种，分别为贴现债券(discount bond)和零息债券（Zero Coupon Bonds）。\n",
    "\n",
    "\n",
    "例如票面金额1000元的半年期债券，按照900元发行，半年后偿还1000元，其中的100元就是债券半年的利息。而零息债券和贴现债券不同，并不能顾名思义，认为它是一种没有利息的债券，零息指的是在持有期没有利息，而在到期时一次还本付息。\n",
    "\n",
    "\n",
    "在国外，通常短期国库券（Treasury Bills）是到期时仅以面值支付都是贴现债券。上世纪80年代国外出现了一种新的[债券]，它是“零息”的，即没有息票，也不支付利息。实际上，投资者在购买这种债券时就已经得到了利息。零息债券的期限普遍较长，最多可到20年。它以低于面值的贴水方式发行，投资者在债券到期日可按债券的面值得到偿付。例如：一种20年期限的债券，其面值为20000美元，而它发行时的价格很可能只有6000美元。在国外有经纪公司经营的特殊的零息债券，由经纪公司将息票和本金相互剥离之后进行独立发行。例如美林、皮尔斯和佛勒·史密斯经纪公司就创造了一种零息债券，这种债券由美国政府担保，其本金和息票相分离，以很大的折扣发行。\n",
    " "
   ]
  },
  {
   "cell_type": "markdown",
   "metadata": {},
   "source": [
    "#  FV PV R T 的计算\n",
    "\n",
    "FV 理解为面值\n",
    "\n",
    "PV 理解为发现价\n",
    "\n",
    "R 理解为年利率 单位 %\n",
    "\n",
    "T 理解为 时间 \n",
    "\n",
    "知道任何三者， 移项计算第四个\n",
    "\n",
    "$$ FV = PV \\times (1+ R ) ^T$$"
   ]
  },
  {
   "cell_type": "markdown",
   "metadata": {},
   "source": [
    "有时候 Asset 会每年分红 一次。 \n",
    "\n",
    "如下图 需要 把时间统一为 PV 或 FV \n",
    "\n",
    "![complicated asset](https://github.com/plok6325/FFM-2017/raw/master/context/complicated%20asset.png)"
   ]
  },
  {
   "cell_type": "markdown",
   "metadata": {},
   "source": [
    "## 例题 \n",
    "- Suppose you have to pay \\$250, 000 for a project.\n",
    "- The project pays \\$100, 000 every year for three years.\n",
    "- Assume that the opportunity cost is known to be 4%.\n",
    "- Worth it?"
   ]
  },
  {
   "cell_type": "code",
   "execution_count": 10,
   "metadata": {
    "collapsed": false
   },
   "outputs": [
    {
     "name": "stdout",
     "output_type": "stream",
     "text": [
      "earning = 27509.1033227\n"
     ]
    }
   ],
   "source": [
    "earning = 100000/(1+0.04) + 100000/((1+0.04)**2)+ 100000/((1+0.04)**3)-250000\n",
    "print 'earning = '+ str(earning)"
   ]
  },
  {
   "cell_type": "markdown",
   "metadata": {},
   "source": [
    "#  解析题\n",
    "## 假设 一个人能隔天给你 一元钱，永远给。 \n",
    "## 你愿意花多少钱 购买这个服务？ \n",
    "\n",
    "$$ PV  =   \\frac{C}{（1+R）} + \\frac{C}{（1+R）^2} +\\frac{C}{（1+R）^3}.....  $$  \n",
    "\n",
    "化简得到 PV\n",
    "\n",
    "1.两边同乘 1+R \n",
    "\n",
    "$$ (1+R )\\times PV  = C + \\frac{C}{（1+R）} + \\frac{C}{（1+R）^2} +\\frac{C}{（1+R）^3}..... $$\n",
    "2.两个式相减 得到 \n",
    "\n",
    "$$ R \\times PV  = C$$ \n",
    "$$ PV = \\frac{C}{R}$$ \n",
    "\n",
    "中国R = 3 % ；支付33元。 "
   ]
  },
  {
   "cell_type": "markdown",
   "metadata": {},
   "source": [
    "\n"
   ]
  },
  {
   "cell_type": "markdown",
   "metadata": {},
   "source": [
    "## 如果那个人每年还多给 g% ? \n",
    "\n",
    "$$ PV  =   \\frac{C}{（1+R）} + \\frac{C\\times（1+g）}{（1+R）^2} +\\frac{C\\times（1+g)^2}{（1+R）^3}.....  $$  \n",
    "\n",
    "\n",
    "化简得到 \n",
    "$$ PV = \\frac{C}{R-g}$$"
   ]
  },
  {
   "cell_type": "markdown",
   "metadata": {},
   "source": [
    "## 那个人说 我付到 T 年就不付了 \n",
    "\n",
    "$$ PV = \\frac{C}{（1+R）} +  \\frac{C}{（1+R）^2}+  \\frac{C}{（1+R）^3} .... \\frac{C}{（1+R）^T} $$ \n",
    "\n",
    "化简 思路还是 两边同乘 1+R ：  \n",
    "\n",
    "$$ PV = \\frac{C}{R} \\times (1- \\frac{1}{(1+R)^T}) $$  "
   ]
  },
  {
   "cell_type": "markdown",
   "metadata": {},
   "source": [
    "# 有效年利率 EAR\n",
    "\n",
    "\n",
    "什么是有效年利率\n",
    "\n",
    "有效年利率指在按照给定的计息期利率和每年复利次数计算利息时，能够产生相同结果的每年复利一次的年利率。\n",
    "\n",
    "\n",
    "计算公式为：\n",
    "\n",
    "$$　　EAR = (1 + \\frac{r}{ m})^ m − 1　$$\n",
    "\n",
    "\n",
    "其中\n",
    "\n",
    "EAR为有效年利率(Effective Annual Rates)  \n",
    "r为名义利率(APR)  \n",
    "m为一年内计息次数。\n",
    "\n",
    " \n",
    "    \n"
   ]
  },
  {
   "cell_type": "markdown",
   "metadata": {},
   "source": [
    "## 假设\n",
    "这章在计算的时候是有很多假设的\n",
    "- discount facotr 对某些人是不同的\n",
    "- discount factor 随时间可能会变\n",
    "- 可能不知道未来的cash flow "
   ]
  },
  {
   "cell_type": "markdown",
   "metadata": {},
   "source": [
    "yield 是由市场决定的  \n",
    "但是riskless rate 是由政策决定者（central bank 决定的） \n"
   ]
  }
 ],
 "metadata": {
  "kernelspec": {
   "display_name": "Python 2",
   "language": "python",
   "name": "python2"
  },
  "language_info": {
   "codemirror_mode": {
    "name": "ipython",
    "version": 2
   },
   "file_extension": ".py",
   "mimetype": "text/x-python",
   "name": "python",
   "nbconvert_exporter": "python",
   "pygments_lexer": "ipython2",
   "version": "2.7.11"
  }
 },
 "nbformat": 4,
 "nbformat_minor": 2
}
