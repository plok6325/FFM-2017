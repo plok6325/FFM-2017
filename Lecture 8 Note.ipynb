{
 "cells": [
  {
   "cell_type": "markdown",
   "metadata": {},
   "source": [
    "# FFM Lecture 8 note - Options\n",
    " "
   ]
  },
  {
   "cell_type": "markdown",
   "metadata": {},
   "source": [
    " Option 期权 \n",
    "- Option contracts\n",
    "- Option strategies\n",
    "- Option valuation\n"
   ]
  },
  {
   "cell_type": "markdown",
   "metadata": {},
   "source": [
    "**Call Option**: The right to buy an asset for a certain price at a\n",
    "certain time in the future.  看涨期权\n",
    "**Put Option** : The right to sell an asset for a certain price at a\n",
    "certain time in the future. 看跌期权\n"
   ]
  },
  {
   "cell_type": "markdown",
   "metadata": {},
   "source": [
    "**Long position**: The option buyer or holder pays a premium and\n",
    "receives the right to buy or sell an asset.  \n",
    "**Short position**: The option seller or writer receives a premium and\n",
    "has the obligation to deliver or purchase an asset.\n",
    "\n",
    "\n",
    "** A European option **can only be exercised on the expiration date.  \n",
    "** An American option **can be exercised on any day prior to and\n",
    "including the expiration date.\n"
   ]
  },
  {
   "cell_type": "markdown",
   "metadata": {},
   "source": [
    "- $S_t$: Spot price. Where the asset is trading at time t.  交易价格\n",
    "- $X$: Strike or exercise price.   行权价格\n",
    "- $T$: Strike or expiration date.  行权日期\n",
    "- $C_t$: Price of a call option.  看涨期权\n",
    "- $P_t$: Price of a put option.  看跌期权 \n",
    "\n",
    "    "
   ]
  },
  {
   "cell_type": "markdown",
   "metadata": {},
   "source": [
    "# option’s value\n",
    "\n",
    "![call](http://academlib.com/imag/bef/corp_fin/image080.jpg)"
   ]
  },
  {
   "cell_type": "markdown",
   "metadata": {},
   "source": [
    "## Covered Call\n",
    "- 所谓Covered Call就是持有股票，并卖出对应的看涨期权。"
   ]
  },
  {
   "cell_type": "markdown",
   "metadata": {},
   "source": [
    "抛补期权的组合方式[1]  \n",
    "抛补期权头寸共有六种组合方式：\n",
    "\n",
    "1. 买进抛补买权(buying a covered call)。这是指投资者在卖出外汇现货或期货的同时，买进该外汇的买权。之所以要采取这种策略，是因为投资者预期该外汇的市场汇率将走跌，但又担心万一价格上升而造成损失，因此买进买权来对其现货或期货空头进行套期保值。\n",
    "\n",
    "2. 卖出抛补买权(writing a covered call)。这是第一种策略的反向，即投资者在买进外汇现货或期货的同时。卖出该外汇的买权。之所以采取这种策略，是因为投资者预期市场价格在长期将走强，但在近期则比较稳定，因此卖出买权来赚取一部分期权费收益。这样，即使该外汇的市场汇率出现出乎意料的走跌，期权费收益也可用来抵补现汇或期汇多头的部分损失。\n",
    "\n",
    "3. 买进抛补卖权(buying a protective put)。这是指投资者在买进外汇现货或期货的同时，买进该外汇的卖权。这是因为投资者预期该外汇将走强，但又担心万一走跌而造成损失，因此通过买进卖权来对现货或期货多头进行套期保值。\n",
    "\n",
    "4. 卖出抛补卖权(writing a covered put)。这是第三种策略的反向，即投资者在卖出外汇现货或期货的同时，卖出该外汇的卖权÷这是因为投资者预期该外汇的市场汇率在长期将走跌，但在近期比较稳定，因此通过卖出卖权来赚取期权费收益。这样，即使市场汇率出现出乎意料的上涨，期权费收益也可用来抵补现货或期货空头的部分损失。\n",
    "\n",
    "5. 合成的现货或期货多头(synthetic long spot or futures)。这是指投资者在买进某外汇现货或期货买权的同时，卖出该外汇的卖权。这种头寸的盈亏状况如同买进现货或期货。\n",
    "\n",
    "6. 合成的现货或期货空头(synthetic shortspot or futures)。这是指投资者在买进某外汇现货或期货卖权的同时，卖出该外汇的买权。这种头寸的盈亏状况如同卖出现货或期货。"
   ]
  },
  {
   "cell_type": "markdown",
   "metadata": {},
   "source": [
    "垂直价差(vertical spread)\n",
    "\n",
    "什么是垂直价差   \n",
    "垂直价差也称价格价差或货币价差，是指投资者买进一个期权，而同时又卖出一个期权，这两个期权有着相同的标的物和相同的到期日，但有着不同的协定价格。\n",
    "\n",
    "垂直价差的策略  \n",
    "　　垂直价差有牛市价差(bull spread)和熊市价差(bear spread)两种基本策略。\n",
    "\n",
    "**牛市价差**适用于投资者对市场行情温和看涨的场合，而**熊市价差**则适用于投资者对市场行情温和看跌的场合。无论是牛市价差，还是熊市价差，投资者都既可用看涨期权来操作，也可用看跌期权来操作。\n",
    "\n",
    "因此，基本的垂直价差可分为四种具体的策略：即“牛市看涨期权价差”(bull call spread)、“牛市看跌期权价差”(bull put spread)、“熊市看涨期权价差”(bear call spread)和“熊市看跌期权价差”(bear put spread)。"
   ]
  },
  {
   "cell_type": "markdown",
   "metadata": {},
   "source": [
    "蝶式套利（Butterfly Spread）\n",
    "\n",
    "什么是蝶式套利  \n",
    "　　蝶式套利是利用不同交割月份的价差进行套期获利，由两个方向相反、共享居中交割月份合约的跨期套利组成。它是一种期权策略，它的风险有限，盈利也有限，是由一手牛市套利和一手熊市套利组合而成的。\n",
    "\n",
    "　　蝶式套利，它是套利交易中的一种合成形式，整个套利涉及三个合约。在期货套利中的三个合约是近期合约，远期合约以及更远期合约，我们称为近端、中间、远端。蝶式套利在净头寸上没有开口，它在头寸的布置上，采取1份近端合约：2份中间合约：1份远端合约的方式。其中近端、远端合约的方向一致，中间合约的方向则和它们相反。即一组是：买近月、卖中间月、买远月；另一组是：卖近月、买中间月、卖远月。两组交易所跨的是三种不同的交割期，三种不同交割期的期货合约不仅品种相同，而且数量也相等，差别仅仅是价格。正是由于不同交割月份的期货合约在客观上存在着价格水平的差异，而且随着市场供求关系的变动，中间交割月份的合约与两旁交割月份的合约价格还有可能会出现更大的价差。这就造成了套利者对蝶式套利的高度兴趣，即通过操作蝶式套利，利用不同交割月份期货合约价差的变动对冲了结，平仓获利。"
   ]
  },
  {
   "cell_type": "markdown",
   "metadata": {},
   "source": [
    "# Put-Call Parity "
   ]
  },
  {
   "cell_type": "markdown",
   "metadata": {},
   "source": [
    "计算欧式期权的方法 \n",
    "\n",
    "\n",
    "$$ C + PV(x) = P + S $$\n",
    "\n",
    "where:\n",
    "\n",
    "C = price of the European call option\n",
    "\n",
    "PV(x) = the present value of the strike price (x), discounted from the value on the expiration date at the risk-free rate\n",
    "\n",
    "P = price of the European put\n",
    "\n",
    "S = spot price, the current market value of the underlying asset\n",
    "\n",
    " "
   ]
  }
 ],
 "metadata": {
  "kernelspec": {
   "display_name": "Python 2",
   "language": "python",
   "name": "python2"
  },
  "language_info": {
   "codemirror_mode": {
    "name": "ipython",
    "version": 2
   },
   "file_extension": ".py",
   "mimetype": "text/x-python",
   "name": "python",
   "nbconvert_exporter": "python",
   "pygments_lexer": "ipython2",
   "version": "2.7.11"
  }
 },
 "nbformat": 4,
 "nbformat_minor": 2
}
