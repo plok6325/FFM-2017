{
 "cells": [
  {
   "cell_type": "markdown",
   "metadata": {},
   "source": [
    "# FFM lecture 3 notes \n"
   ]
  },
  {
   "cell_type": "markdown",
   "metadata": {},
   "source": [
    "# Profolio Selection"
   ]
  },
  {
   "cell_type": "markdown",
   "metadata": {},
   "source": [
    "## Expected Value  \n",
    "\n",
    "每个收益 乘 概率 \n",
    "\n",
    "$$　E[R_i]   = \\sum R_i(s) \\times P(s)$$ \n",
    "\n",
    "- i = asset   \n",
    "- s = state  \n",
    "- R = return   \n",
    "- P = probability   \n",
    "\n",
    "## Variance\n",
    "![](https://wikimedia.org/api/rest_v1/media/math/render/svg/64b8b9c4b8a7691be75795ce3ffd061d5cdfde4a) \n",
    "\n",
    "\n",
    "## Covariance \n",
    "\n",
    "![](https://wikimedia.org/api/rest_v1/media/math/render/svg/3b2f5356a89c413a67fbb16292ed80e3187fbc86)\n",
    "\n",
    "具体看本章最后一页 统计学补充 \n",
    "## Correlation \n",
    "$$ Cor(R_i,R_j)  = \\frac{Cov(R_i,R_j)}{\\sigma_i \\sigma_j}$$ "
   ]
  },
  {
   "cell_type": "markdown",
   "metadata": {},
   "source": [
    "##  Portfolio\n",
    "\n",
    "Asset 1.2.3.4... 加起来　＝　1个 Portfolio\n",
    "\n",
    "每个Asset 会有不同的weight  \n",
    "$\\sum weight = 1$\n"
   ]
  },
  {
   "cell_type": "markdown",
   "metadata": {
    "collapsed": true
   },
   "source": [
    "###  Riskless  无风险\n",
    "\n",
    "$$E[R_f] = R_f$$ \n",
    "\n",
    "$$V[R_f] = 0$$\n",
    "\n",
    "$$Cov[R_f,R_i] = E[0 \\times sth] = 0  $$\n"
   ]
  },
  {
   "cell_type": "markdown",
   "metadata": {},
   "source": [
    "# risky + risky \n",
    "\n",
    "| |TIF| LMT |S&P|\n",
    "|----|-----|------|------|\n",
    "|Arith. Mean |1.70% |0.97%| 0.19%|\n",
    "|Variance |0.0145 |0.0059 |0.0021|\n",
    "|$\\sigma$| 12.04% |7.70% |4.56%|\n",
    "|$\\rho$(Ri ; RTIF )| 1|0.18 |0.73 |\n",
    "|$\\rho$(Ri ; RLMT ) |0.18 |1|0.23 |\n",
    "|$\\rho$(Ri ; RSPY ) |0.73 |0.23 |1|\n",
    "\n",
    "**What if I held 50% in LMT and 50% in TIF?** "
   ]
  },
  {
   "cell_type": "code",
   "execution_count": 35,
   "metadata": {
    "collapsed": false
   },
   "outputs": [
    {
     "name": "stdout",
     "output_type": "stream",
     "text": [
      "Expected return = 1.335000 %\n",
      "Variance = 0.005934 %  STD = 0.077035\n"
     ]
    }
   ],
   "source": [
    "E = 0.5*1.7+0.5*0.97\n",
    "print 'Expected return = %f %%' %E\n",
    "\n",
    "Var = 0.5**2*0.0145+0.5**2*0.0059+2*0.5*0.5*0.18*0.1204*0.0770\n",
    "print 'Variance = %f %%  STD = %f' %(Var,Var**0.5)\n"
   ]
  },
  {
   "cell_type": "markdown",
   "metadata": {},
   "source": [
    "# risky + risk free \n",
    "\n",
    " - $w $  risky \n",
    " - $1-w$ riskless asset. \n",
    "\n",
    "**Expected  return**  \n",
    "$$ E = w \\times E[R_i] + (1-w) \\times E[R_f]$$\n",
    "$$ =  E[R_f] + w (E[R_i]-E[R_f]) $$ \n",
    "$$  =  R_f + wE([R_i-R_f])$$ \n",
    " $$ = 无风险利润 + w\\times 风险溢价 $$\n",
    " \n"
   ]
  },
  {
   "cell_type": "markdown",
   "metadata": {},
   "source": [
    "**Variance**    \n",
    "    \n",
    "$$ V[R_p] = V(w\\times R_i + (1-w)\\times R_f) $$  \n",
    "$$ =  w^2 \\times \\sigma_i ^2 $$\n",
    "\n",
    "**STD** \n",
    "![](https://wikimedia.org/api/rest_v1/media/math/render/svg/64d1f6d05febda3e35d04b4c960163813b6e1cf8)\n",
    "$$ \\sigma_p^2 = \\sum_{1}^{m} w_i^2\\times\\sigma_i^2$$ "
   ]
  },
  {
   "cell_type": "markdown",
   "metadata": {},
   "source": [
    "$ w = \\frac{\\sigma_p}{\\sigma_i} $ 带入 $ E = R_f + w \\times E(R_i-R_f)$ \n",
    "\n",
    "得到 $ E(R_p) = R_f + \\frac{E(R_i-R_f)}{\\sigma_i} \\times \\sigma_p  $   \n",
    "*$  E(R_p) = R_f + sharp ratio \\times \\sigma_p$\n",
    "\n",
    "其中 $\\frac{E(R_i-R_f)}{\\delta_i}  $  叫做 **sharp ratio** \n",
    "\n",
    "及时上面的式子 和 MBA 智库百科的式子不同， 但只要是risky+ risk-free 的组合， 上式的例子就成立"
   ]
  },
  {
   "cell_type": "markdown",
   "metadata": {},
   "source": [
    "# 夏普比率\n",
    "\n",
    "夏普比率（Sharpe Ratio），又被称为夏普指数 --- 基金绩效评价标准化指标\n",
    "\n",
    "$$sharp  = \\frac{E[R_p]-R_f}{\\delta_p}$$ \n",
    "![sharp example ](https://github.com/plok6325/FFM-2017/raw/master/context/sharp%3D0.28.png ) "
   ]
  },
  {
   "cell_type": "markdown",
   "metadata": {},
   "source": [
    "# a risky asset in US market is: \n",
    "- $E[R_{US} ] = 12.13%$, $\\sigma_{US} = 15.98%$   \n",
    "- Risk-free is the US T-bill, Rf = 5%.  \n",
    "\n",
    "- Then the Sharpe Ratio is $\\frac{0.1213−0.05}{0.1598} = 0.446 $\n",
    "- SR is the return premium per unit of risk"
   ]
  },
  {
   "cell_type": "code",
   "execution_count": 2,
   "metadata": {
    "collapsed": false
   },
   "outputs": [
    {
     "name": "stdout",
     "output_type": "stream",
     "text": [
      "sharp ratio  = 0.446182728411\n"
     ]
    }
   ],
   "source": [
    "sharp = (0.1213-0.05)/(0.1598)\n",
    "print 'sharp ratio  = '+ str(sharp)"
   ]
  },
  {
   "cell_type": "markdown",
   "metadata": {},
   "source": [
    "# The Capital Allocation Line\n",
    "\n",
    "\n",
    "什么是资本市场线\n",
    "\n",
    "　　\n",
    "资本市场线是指表明有效组合的期望收益率和标准差之间的一种简单的线性关系的一条射线。它是沿着投资组合的有效边界，由风险资产和无风险资产构成的投资组合。\n",
    "\n",
    "\n",
    "资本市场线\n",
    "\n",
    "\n",
    "资本市场线可表达为：\n",
    "\n",
    "\n",
    "$E(R_p) = R_f + slope\\times \\sigma_p $\n",
    "\n",
    "$ slope = \\frac{E(R_i-R_f) }{ \\sigma_i}$\n",
    "\n",
    "其中 $R_p$ 为任意有效组合P的收益率，$R_f$为无风险收益率(纯利率)，$slope $为资本市场线的斜率，$\\delta_p$为有效组合P的标准差(风险)。\n",
    "\n",
    "\n",
    "虽然资本市场线表示的是风险和收益之间的关系，但是这种关系也决定了证券的价格。因为资本市场线是证券有效组合条件下的风险与收益的均衡，如果脱离了这一均衡，则就会在资本市场线之外，形成另一种风险与收益的对应关系。这时，要么风险的报酬偏高，这类证券就会成为市场上的抢手货，造成该证券的价格上涨，投资于该证券的报酬最终会降低下来。要么会造成风险的报酬偏低，这类证券在市场上就会成为市场上投资者大量抛售的目标，造成该证券的价格下跌，投资于该证券的报酬最终会提高。经过一段时间后，所有证券的风险和收益最终会落到资本市场线上来，达到均衡状态。\n",
    "\n",
    "![acl](https://github.com/plok6325/FFM-2017/raw/master/context/acl.png)\n"
   ]
  },
  {
   "cell_type": "markdown",
   "metadata": {},
   "source": [
    "# Indifference Curves  无差异线 \n",
    "\n",
    "什么是无差异曲线\n",
    "\n",
    "无差异曲线是用来表示两种商品或两组商品的不同数量的组合对消费者所提供的效用是相同的，无差异曲线符合这样一个要求：如果听任消费者对曲线上的点作选择，那么，所有的点对他都是同样可取的，因为任一点所代表的组合给他所带来的满足都是无差异的。\n",
    "![indiff curve ](https://github.com/plok6325/FFM-2017/raw/master/context/indiff%20curve%20.png) "
   ]
  },
  {
   "cell_type": "markdown",
   "metadata": {},
   "source": [
    "# Utility Function\n",
    "\n",
    "不知所云 "
   ]
  },
  {
   "cell_type": "markdown",
   "metadata": {},
   "source": [
    "# 题1.  \n",
    "\n",
    "\n",
    "## 两个 asset 组合成 一个 portfolio 的相关计算问题 \n",
    "\n",
    "已知 asset  A  B 的 return  std  corr  和weight  \n",
    "\n",
    "求 组合的 Expect return ； std  \n",
    "\n",
    "有时候 会发现 $ std（组合） <  min （std（A），std（B）） $\n",
    "\n",
    "## 如果 weight 是变量  ？ ？ \n",
    "\n",
    "Var 能化简成 有关 w 的二次函数 ； var = w1^2*var1 +  w2^2*var2+ 2 w1*w2*cov(1,2); w1 = 1-w2  \n",
    "Expect return 是有关 w 的一次函数。  E = w1*R1+w2*R2; w1=1-w2\n",
    "\n",
    "先把 $w$ 写成 $ w = a\\times Expect +b $ 的形式 ， 然后带入 var 。 \n",
    "\n",
    "再次化简， 能画出Expect return 和Portfolio risk （Var（portfolio）） 的关系曲线。 \n",
    "\n",
    "是横向抛物线。 。\n",
    "\n",
    "开做空和不开做空是不一样的。 \n",
    "![returnvsrisk](https://github.com/plok6325/FFM-2017/raw/master/context/returnvsrisk.png)\n"
   ]
  },
  {
   "cell_type": "markdown",
   "metadata": {},
   "source": [
    "根据 corr 的不同性质， 这个关系曲线是不同的。\n",
    "\n",
    "when corr(R_a,R_b) = 1 \n",
    "\n",
    "$ \\sigma_p = a \\times w + b $  带入 var 得到 $var = c\\times exp + d$ 是 一条直线 。 \n",
    "\n",
    "when corr (R_a,R_b) = -1 \n",
    "\n",
    "$\\sigma_p   = abs(something)   > 0 $  \n",
    "\n",
    "化简出来 以后需要 正负 号 讨论 。 \n",
    "\n",
    "所以得到两条直线 。 \n",
    "\n",
    "![returnvsrisk2](https://github.com/plok6325/FFM-2017/raw/master/context/returnvsrisk2.png)\n"
   ]
  },
  {
   "cell_type": "markdown",
   "metadata": {},
   "source": [
    "## 有效集  \n",
    "有效集（Efficient set），也称有效前沿或是效率前沿模型（The Efficient Frontier），有效边界（efficient frontier）\n",
    "\n",
    "![](http://wiki.mbalib.com/w/images/7/73/Aas.gif)"
   ]
  },
  {
   "cell_type": "markdown",
   "metadata": {},
   "source": [
    "# Equal-Weighted Portfolios\n",
    "\n",
    "\n",
    "**Case 1.**  corr(assets) = 0 \n",
    "\n",
    "Risk decreases with the number of assets.\n",
    "\n",
    "**case 2 ** corr(assets) != 0 \n",
    "\n",
    "Risk decreases with the number of assets."
   ]
  },
  {
   "cell_type": "markdown",
   "metadata": {},
   "source": [
    "##  统计学补充 \n",
    "\n",
    "\n",
    "### 方差定义: \n",
    "![](https://wikimedia.org/api/rest_v1/media/math/render/svg/64b8b9c4b8a7691be75795ce3ffd061d5cdfde4a)\n",
    "\n",
    "### 连续随机变数\n",
    "如果随机变数X是连续分布，并对应至概率密度函数f(x)，则其方差为： \n",
    "![](https://wikimedia.org/api/rest_v1/media/math/render/svg/c2ace8c9ac8568598540df05d0db70c4e957192b)\n",
    "\n",
    "其中 $f(x)$ 是概率密度函数 $\\mu$ 是期望值![](https://wikimedia.org/api/rest_v1/media/math/render/svg/316b6b37f4e1ff15b4546aba108198bd6454f539) \n",
    "### 离散随机变数 \n",
    "如果随机变数X是具有概率质量函数的离散概率分布x1 ↦ p1, ..., xn ↦ pn，则：\n",
    "![](https://wikimedia.org/api/rest_v1/media/math/render/svg/90257546854b44062850cde16b4c216ab9ab9cbc)\n",
    "$\\mu$ 是期望值\n",
    "![](https://wikimedia.org/api/rest_v1/media/math/render/svg/80703fb8ffde44ac33c9d4d217cfcae4637a31f1)"
   ]
  },
  {
   "cell_type": "markdown",
   "metadata": {},
   "source": [
    "## 方差的性质： \n",
    "\n",
    "方差不会是负的，因为次方计算为正的或为零：\n",
    "$\\operatorname{Var}(X)\\ge 0$  \n",
    "\n",
    "一个常数随机变数的方差为零，且当一个资料集的方差为零时，其内所有项目皆为相同数值：  \n",
    "$P(X=a) = 1\\Leftrightarrow \\operatorname{Var}(X)= 0$  \n",
    "\n",
    "方差不变于定位参数的变动。也就是说，如果一个常数被加至一个数列中的所有变数值，此数列的方差不会改变：  \n",
    "$ \\operatorname{Var}(X+a)=\\operatorname{Var}(X)$  \n",
    "\n",
    "如果所有数值被放大一个常数倍，方差会放大此常数的次方倍：   \n",
    "$ \\operatorname{Var}(aX)=a^2\\operatorname{Var}(X)$ \n",
    "\n",
    "两个随机变数合的方差为：   \n",
    "$\\operatorname{Var}(aX+bY)=a^2\\operatorname{Var}(X)+b^2\\operatorname{Var}(Y)+2ab\\, \\operatorname{Cov}(X,Y)$  \n",
    "$ \\operatorname{Var}(X-Y)=\\operatorname{Var}(X)+\\operatorname{Var}(Y)-2\\, \\operatorname{Cov}(X,Y)$  \n",
    "\n",
    "此数Cov(., .)代表协方差。  \n"
   ]
  },
  {
   "cell_type": "markdown",
   "metadata": {},
   "source": [
    "## 协方差 \n",
    "\n",
    "协方差（Covariance）在概率论和统计学中用于衡量两个变量的总体误差。而方差是协方差的一种特殊情况，即当两个变量是相同的情况。\n",
    "期望值分别为 $E(X)=\\mu$ 与 $ E(Y)=\\nu$ 的两个实数随机变量X 与Y 之间的协方差定义为：  \n",
    "$$ \\operatorname{cov}(X, Y) = \\operatorname{E}((X - \\mu) (Y - \\nu))$$ \n",
    "\n",
    "$$\\operatorname{cov}(X, Y) = \\operatorname{E}(X \\cdot Y) - \\mu \\nu $$  \n",
    "\n",
    "协方差表示的是两个变量的总体的误差，这与只表示一个变量误差的方差不同。 如果两个变量的变化趋势一致，也就是说如果其中一个大于自身的期望值，另外一个也大于自身的期望值，那么两个变量之间的协方差就是正值。 如果两个变量的变化趋势相反，即其中一个大于自身的期望值，另外一个却小于自身的期望值，那么两个变量之间的协方差就是负值。  \n",
    "\n",
    "如果X 与Y 是统计独立的，那么二者之间的协方差就是0，这是因为\n",
    "$ E(X \\cdot Y)=E(X) \\cdot E(Y)=\\mu\\nu$\n",
    "但是反过来并不成立，即如果X 与Y 的协方差为0，二者并不一定是统计独立的。\n",
    "取决于协方差的相关性 \n",
    "![](https://wikimedia.org/api/rest_v1/media/math/render/svg/786d2c7152089bcd6eadb4412445f39a58d4a0f2)\n",
    "更准确地说是线性相关性，是一个衡量线性独立的无量纲数，其取值在[－1,+1]之间。相关性η = 1时称为“完全线性相关”（相关性η = －1时称为“完全线性负相关”），此时将Yi对Xi作Y-X 散点图，将得到一组精确排列在直线上的点；相关性数值介于－1到1之间时，其绝对值越接近1表明线性相关性越好，作散点图得到的点的排布越接近一条直线。\n",
    "\n",
    "相关性为0（因而协方差也为0）的两个随机变量又被称为是不相关的，或者更准确地说叫作“线性无关”、“线性不相关”，这仅仅表明X 与Y 两随机变量之间没有线性相关性，并非表示它们之间一定没有任何内在的（非线性）函数关系，和前面所说的“X、Y二者并不一定是统计独立的”说法一致。\n",
    "\n",
    "### 协方差的性质\n",
    "如果X 与Y 是实数随机变量，a 与b 不是随机变量，那么根据协方差的定义可以得到：  \n",
    "$ \\operatorname{cov}(X, X) = \\operatorname{var}(X)$   \n",
    "$  \\operatorname{cov}(X, Y) = \\operatorname{cov}(Y, X)$  \n",
    "$ \\operatorname{cov}(aX, bY) = ab\\, \\operatorname{cov}(X, Y) $   \n",
    "\n",
    "对于随机变量序列X1, ..., Xn与Y1, ..., Ym，有   \n",
    "$ \\operatorname{cov}\\left(\\sum_{i=1}^n {X_i}, \\sum_{j=1}^m{Y_j}\\right) =  \\sum_{i=1}^n{\\sum_{j=1}^m{\\operatorname{cov}\\left(X_i, Y_j\\right)}}$  \n",
    "\n",
    "对于随机变量序列X1, ..., Xn，有  \n",
    "$  \\operatorname{var}\\left(\\sum_{i=1}^n X_i \\right) = \\sum_{i=1}^n \\operatorname{var}(X_i) + 2\\sum_{i,j\\,:\\,i<j} \\operatorname{cov}(X_i,X_j) $  \n"
   ]
  }
 ],
 "metadata": {
  "anaconda-cloud": {},
  "kernelspec": {
   "display_name": "Python 2",
   "language": "python",
   "name": "python2"
  },
  "language_info": {
   "codemirror_mode": {
    "name": "ipython",
    "version": 2
   },
   "file_extension": ".py",
   "mimetype": "text/x-python",
   "name": "python",
   "nbconvert_exporter": "python",
   "pygments_lexer": "ipython2",
   "version": "2.7.11"
  }
 },
 "nbformat": 4,
 "nbformat_minor": 2
}
