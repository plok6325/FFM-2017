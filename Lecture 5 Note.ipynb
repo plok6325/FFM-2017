{
 "cells": [
  {
   "cell_type": "markdown",
   "metadata": {},
   "source": [
    "# FFM Lecture 5 Arbitrage\n",
    "\n",
    "\n",
    "在这儿我们会讨论 \n",
    "- Arbitrage Definitions\n",
    "- Arbitrage Pricing\n",
    "- Arbitrage Pricing with transactions costs\n",
    "- Real-world arbitrage trading\n",
    "- Arbitrage Pricing Theory"
   ]
  },
  {
   "cell_type": "markdown",
   "metadata": {},
   "source": [
    "**Arbitrage defination** \n",
    "\n",
    "- No initial investment \n",
    "\n",
    "- no negative cash flow \n",
    "\n",
    "- positive cash flow at leaset once \n",
    "\n",
    "**Abitrage pricing**\n",
    "1. True Arbitrage not exist \n",
    "2. If there were, people would take advantage of it, Prices would adjust to eliminate it.\n",
    " \n",
    "\n",
    "\n",
    "-----\n"
   ]
  },
  {
   "cell_type": "markdown",
   "metadata": {},
   "source": [
    "# Statistical Arbitrage \n",
    "华尔街套利策略使用的是 statistical arbitrage\n",
    "\n",
    "统计套利\n",
    "目录\n",
    "\n",
    "什么是统计套利  \n",
    "　　统计套利是将套利建立对历史数据进行统计分析的基础之上，估计相关变量的概率分布，并结合基本面数据进行分析以用以指导套利交易。相比于无风险套利，统计套利少量增加了一些风险，但是由此可获得的套利机会将数倍于无风险套利。\n",
    "  \n",
    "  \n",
    "统计套利的基本思路  \n",
    "　　统计套利的基本思路是运用统计分析工具对一组相关联的价格之间的关系的历史数据进行研究分析，研究该关系在历史上的稳定性，并估计其概率分布，确定该分布中的极端区域，即否定域，当真实市场上的价格关系进入否定域时，则认为该种价格关系不可长久维持，套利者有较高成功概率进场套利。\n",
    "![arbitrage](https://github.com/plok6325/FFM-2017/raw/master/context/arbitrage.jpg)\n",
    "\n",
    "注意：统计套利是只针对有稳定性的价格关系进行的，那些没有稳定性的价格关系的套利风险是很大的。价格关系是否稳定直接决定着统计套利能否成立，因此在对价格关系的历史数据进行统计分析的时候，首先要检验价格关系在历史数据中是否稳定。一组价格关系如果是稳定的，那么必定是存在着某一种均衡关系维持机制，一旦价格关系偏离均衡水平，维持机制就会起作用，将价格关系或快或慢地拉回到均衡水平。所以，要分析一组价格关系是否稳定，需要先定性分析是否存在着这样的均衡关系维持机制，然后再对历史数据进行统计分析进行验证，以证实该通过定性分析得到的关系维持机制在历史上确实是在发挥作用。  \n",
    "\n",
    "　　例如：大豆、豆粕、豆油之间的跨品种套利，豆粕与豆油同属于大豆的下游产品，通过之一关系决定了三者之间的均衡关系，通过分析 CBOT 大豆、豆油和豆粕在过去二十年的历史比价数据，则会发现它们之间的价格关系有很强的稳定性。\n",
    "\n",
    "　　国内三大植物油，同属于食用油系列，三者互为替代品，从用途上相互作用，存在均衡的价差关系。通过长期统计分析比价关系比较均衡。\n",
    "\n",
    "　　大豆与玉米在种植上属于同一季节作物，属于挣地性产品，在下游又都可以作为饲料的原料，又相互替代，由这两种均衡关系维持着相对稳定的比价关系。\n",
    "\n",
    "　　再例如在铜和铝，调用它们过去二十年的历史价格数据进行统计分析，容易发现它们之间的价差（比价）是不稳定的，所以针对铜和铝的价差进行的套利是是存在很大风险的。概言之，进行统计套利，首先是要结合定性和定量两个方面的分析来寻找到一种有着均衡维持机制的稳定的价格关系，然后估计相对价格关系的概率分布，对概率分布进行统计检验。这是统计套利的基础。"
   ]
  },
  {
   "cell_type": "markdown",
   "metadata": {},
   "source": [
    "# The Law of One Price (LOOP)  一价定律 \n",
    "\n",
    "\n",
    "一价定律的提出\n",
    "\n",
    "一价定律即绝对购买力平价理论，它是由货币学派的代表人物弗里德曼(1953)提出的。\n",
    "\n",
    "\n",
    "一价定律认为在没有运输费用和官方贸易壁垒的自由竞争市场上，一件相同商品在不同国家出售，如果以同一种货币计价，其价格应是相等的。即是说，通过汇率折算之后的标价是一致的，若在各国间存在价格差异，则会发生商品国际贸易，直到价差被消除，贸易停止，这时达到商品市场的均衡状态。该定律适用于商品市场，与之相似的适用于资本市场的定律是利息平价理论。\n",
    "\n",
    "\n",
    "假设各国同类商品之间差异很小，具有均质性，且忽略信息费用、运输费用和贸易关税等，则可以认为，在自由贸易条件下，世界市场上的任何一种商品不论在何地出售，用同一种货币表示的价格是一样的；用另一种货币表示的价格则只需用均衡汇率进行折算。这就是所谓的一价定律。一价定律所描述的均衡状态在目前的经济环境中很难做到，但是经济发展却是遵循这个定律的。\n",
    "\n",
    "\n",
    "**一价定律的成立前提条件** \n",
    "\n",
    "1. 对比国家都实行了同等程度的货币自由兑换，货币、商品、劳务和资本流通是完全自由的；\n",
    "\n",
    "2. 信息是完全的；\n",
    "\n",
    "3. 交易成本为零；\n",
    "\n",
    "4. 关税为零。\n",
    "  \n",
    "  \n",
    "  "
   ]
  },
  {
   "cell_type": "markdown",
   "metadata": {},
   "source": [
    "# 例子\n",
    "- Chase is offering a CATS (Certificate of Accrual on Treasury\n",
    "Security) that pays \\$100 in one year, at \\$94.34.\n",
    "- Merrill Lynch is offering a TIGR (Treasury Investors Growth\n",
    "Receipt) that pays \\$100 in one year, at \\$95.23.\n",
    "- Different yields (6% vs. 5%). Why?\n",
    "- What do arbitrageurs do? Borrow TIGR from ML, and sell it. Buy\n",
    "a CATS from Chase and pledge (抵押)it to ML as collateral (担保物权) for the TIGR.\n",
    "You make $0.89 today. In one year, you net positions.\n",
    "- What if the cost of shorting is \\$0.50, and the cost of buying is\n",
    "\\$0.50? no opportunity \n"
   ]
  },
  {
   "cell_type": "markdown",
   "metadata": {},
   "source": [
    "## real exchange rate 实际汇率\n",
    " \n",
    " \n",
    "**什么是实际汇率**\n",
    "\n",
    "实际汇率是指将现实汇率经过**相对物价指数调整**后得到的汇率，是按外国与本国物价指数之比对名义汇率进行调整，用来反映剔除两国货币相对购买力变动的影响后，汇率变动对两国国际竞争力的实际影响。[1]\n",
    "\n",
    "\n",
    "**关于实际汇率的其它定义**：\n",
    "\n",
    "实际汇率是指名义汇率用两国价格水平调整后的汇率,即外国商品与本国商品的相对价格,它反映了本国商品的国际竞争力。\n",
    "实际汇率是指名义汇率乘以外国的物价指数，再除以本国的物价指数。\n",
    "\n",
    " "
   ]
  },
  {
   "cell_type": "markdown",
   "metadata": {},
   "source": [
    "## Arbitrage 计算。 \n",
    "\n",
    "做空贵的， 买入便宜的。 \n",
    "\n",
    "有  Transaction  cost "
   ]
  },
  {
   "cell_type": "markdown",
   "metadata": {},
   "source": [
    "#  Bid/Ask Spread  - arbitrage \n",
    "\n",
    "Bid 拍卖，买入 ： 竞标， 买入价  买一买二买三\n",
    "\n",
    "Ask : 卖出价  卖一卖二卖三\n",
    "\n",
    "Mid ： $mid = \\frac{bid+ask}{2}$\n",
    "\n",
    "Cost ： $ cost = average transaction cost - mid $\n",
    "\n",
    "[bidask](https://github.com/plok6325/FFM-2017/raw/master/context/bidask.png)\n",
    " \n",
    "\n",
    "做市商通过 buy $ask_a$ and sell to $bid_b$"
   ]
  },
  {
   "cell_type": "markdown",
   "metadata": {},
   "source": [
    "# Replicating Portfolio \n",
    "\n",
    "构造一个一样的组合 \n",
    "- Suppose that:\n",
    "    - A zero-coupon bond maturing in 1 year costs \\$98\n",
    "    - A zero-coupon bond maturing in 2 year costs \\$96\n",
    "    - A zero-coupon bond maturing in 3 year costs \\$93\n",
    "- How would you price a three-year bond with a 10% coupon rate?  three-year bond 利息+ 利息 + 利息和本金\n",
    "\n",
    "Bond pays off \\$10 in one year, \\$10 in two years, and \\$110 in three\n",
    "years.  \n",
    "So replicating gets P = 0.1 · \\$98 + 0.1 · \\$96 + 1.1 · \\$93 = $121.7\n",
    "\n",
    "- What arbitrage strategy would you take if such a bond were trading for \\$100?  \n",
    "\n",
    " \\$100 would be a severe under-pricing  \n",
    " At time 0: Buy one unit of the 3-year coupon bond, short the replicating portfolio.   \n",
    " Make \\$21.70.\n"
   ]
  },
  {
   "cell_type": "markdown",
   "metadata": {},
   "source": [
    "# Dynamic Hedging Strategy\n",
    "\n",
    "随着时间的推移，还要操作"
   ]
  },
  {
   "cell_type": "markdown",
   "metadata": {
    "collapsed": true
   },
   "source": [
    "Suppose that:  \n",
    "- A zero-coupon bond maturing in one year costs \\$98.\n",
    "- In one year, a one year zero-coupon bond also costs \\$98.\n",
    "\n",
    "- How much should a zero-coupon bond maturing in two years cost?  \n",
    "0.98*98 = \\$ 96.04\n",
    "\n",
    "- Would there eve an arbitrage opportunity if it were priced at \\$95?  \n",
    "\n",
    "Today: buy the two-year zero at $95. Short 0.98 units of the 1-year zero at \\$96.04. Make \\$1.04.\n",
    "- In one year, short one unit of the 1-year zero.\n",
    "- This is a dynamic strategy, because the trading occurs over time.\n"
   ]
  }
 ],
 "metadata": {
  "kernelspec": {
   "display_name": "Python 2",
   "language": "python",
   "name": "python2"
  },
  "language_info": {
   "codemirror_mode": {
    "name": "ipython",
    "version": 2
   },
   "file_extension": ".py",
   "mimetype": "text/x-python",
   "name": "python",
   "nbconvert_exporter": "python",
   "pygments_lexer": "ipython2",
   "version": "2.7.11"
  }
 },
 "nbformat": 4,
 "nbformat_minor": 2
}
