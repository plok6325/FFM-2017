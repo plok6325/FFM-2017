# FFM notes 


[Lecture 1 notes](http://nbviewer.jupyter.org/github/plok6325/FFM-2017/blob/master/lecture%201%20notes.ipynb)

[Lecture 2 notes](http://nbviewer.jupyter.org/github/plok6325/FFM-2017/blob/master/Lecture%202%20Note%20.ipynb)

[Lecture 3 notes](http://nbviewer.jupyter.org/github/plok6325/FFM-2017/blob/master/Lecture%203%20Note%20.ipynb)

[Lecture 4 notes](http://nbviewer.jupyter.org/github/plok6325/FFM-2017/blob/master/Lecture%204%20note%20.ipynb)



