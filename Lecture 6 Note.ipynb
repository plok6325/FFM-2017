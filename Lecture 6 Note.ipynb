{
 "cells": [
  {
   "cell_type": "markdown",
   "metadata": {
    "collapsed": true
   },
   "source": [
    "# FFM 2017 lecture 6 Equity Valuation "
   ]
  },
  {
   "cell_type": "markdown",
   "metadata": {},
   "source": [
    "- Intrinsic Value vs. Market Value\n",
    "- Discounted Cash Flow (DCF) Models\n",
    "- Valuation Ratios\n",
    "- Multiples (Comparables)"
   ]
  },
  {
   "cell_type": "markdown",
   "metadata": {},
   "source": [
    "## Intrinsic Value vs. Market Value \n",
    "\n",
    "\n",
    "Intrinsic value:  \n",
    "- Based on fundamental analysis of a company’s assets and prospects \n",
    "-  fundamental value  \n",
    "- 为什么高速增长的公司溢价高？因为增长给了公司溢价， 这部分溢价可以由 $\\frac{D}{R-g}- \\frac{E}{R}$ 计算得出\n",
    "\n",
    "Market Value:\n",
    "- Based on observed market prices and shares outstanding\n",
    "- Market capitalization 市值"
   ]
  },
  {
   "cell_type": "markdown",
   "metadata": {},
   "source": [
    "## Discounted Cash Flow Methods\n",
    "\n",
    "Discounted Free Cash Flow Model (DCF):  \n",
    "- 贴现现金流\n",
    "- The value of equity is equal to the discounted value of all future\n",
    "cash flows.\n",
    "![DCF](http://i.investopedia.com/inv/dictionary/terms/DCF.gif)\n",
    "\n",
    "Dividend Discount Model (DDM)  \n",
    "- 股息贴现模型\n",
    "- The value of equity is equal to the discounted value of all future\n",
    "dividends.\n",
    "\n",
    "![DDM](http://wiki.mbalib.com/w/images/math/6/3/0/6307ea990fa262df324e3cd6ec87803c.png)\n",
    "其中，V代表普通股的内在价值，$D_t$是普通股第t期预计支付的股息和红利，y是贴现率，又称资本化率 (the capitalization rate)。\n",
    "\n",
    "　　该式同样适用于持有期 t为有限的股票价值分析"
   ]
  },
  {
   "cell_type": "markdown",
   "metadata": {},
   "source": [
    "## 利润和分红的关系 ： \n",
    "\n",
    "dividend payout ratio $d$ ; 分红 $D_t$ ; earning $E_t$:  \n",
    "    $Dt = d_t × E_t$\n",
    "\n",
    "$b_t = 1 − d_t$ is called the earnings-retention ratio.\n",
    "\n",
    "$I_t$ 分红之后剩下的钱  \n",
    "$I_t = (1 − d_t) × E_t$  \n",
    "\n",
    "下一期利润 $E_{t+1}$  ; 新项目return $ri$  \n",
    "$E_{t+1} = E_t + I_t × ri_{t+1} = E_t + b_t × E_t × ri_{t+1}$   \n",
    "Then the growth rate of earnings can be defined as:  \n",
    "$g_{t+1} ≡ \\frac{E_{t+1} − E_t}{E_t} = b_t × ri_{t+1} $ "
   ]
  },
  {
   "cell_type": "markdown",
   "metadata": {},
   "source": [
    "## ROE Return On Equity \n",
    "- 股本回报率\n",
    "\n",
    "\n",
    "growth rate = ROE * b \n",
    "\n"
   ]
  },
  {
   "cell_type": "markdown",
   "metadata": {},
   "source": [
    "### DDM 1 \n",
    "when $D_0 = D_1 = D_2 = D_3 =... D_n$:  \n",
    "  $  V = \\frac{D_1}{1+R} + \\frac{D_1}{(1+R)^2} + \\frac{D_1}{(1+R)^3} ...$  \n",
    "  $V = \\frac{D_0}{R}$\n",
    "  \n",
    "### DDM2 \n",
    "when Dividends grows at rate g:  \n",
    "$ V = \\frac{D_0}{1+R}  +\\frac{(1+g) \\times  D_0}{(1+R)^2} + \\frac{(1+g)^2 \\times  D_0}{(1+R)^3}  ....$  \n",
    "$  =\\frac{ D_0 \\times (1 + g)} {R − g} = \\frac{(1 − b)E(E1)}{R − g} $"
   ]
  },
  {
   "cell_type": "markdown",
   "metadata": {},
   "source": [
    "例题  Pfizer： \n",
    "\n",
    "- Average analyst estimate of earnings per share for 2013: $2.38\n",
    "- Expected dividend payout ratio: 45%\n",
    "- Long-term Beta: 0.81\n",
    "- Expected return on new investments: 11.59%\n",
    "- Risk-free rate: 0.5%\n",
    "- Nominal market return: 12%.\n",
    "\n",
    "$ R = R_f + \\beta (E_m-E_f) = 0.005+ 0.81*(0.12-0.005)= 0.09815 $\n"
   ]
  },
  {
   "cell_type": "code",
   "execution_count": 19,
   "metadata": {
    "collapsed": false
   },
   "outputs": [],
   "source": [
    "g = 0.55*0.1159\n",
    "r =  0.005+ 0.81*(0.12-0.005) "
   ]
  },
  {
   "cell_type": "code",
   "execution_count": 20,
   "metadata": {
    "collapsed": false
   },
   "outputs": [
    {
     "name": "stdout",
     "output_type": "stream",
     "text": [
      "Intrinsic value = 31.1291963377\n"
     ]
    }
   ],
   "source": [
    "V = 2.38*0.45 / (0.09815-g)\n",
    "print 'Intrinsic value = ' + str(V)"
   ]
  },
  {
   "cell_type": "markdown",
   "metadata": {},
   "source": [
    "影响intrinsic value 的因素\n",
    "- The growth rate\n",
    "- The dividend payout ratio\n",
    "- The degree of risk\n",
    "- The level of market rates\n"
   ]
  },
  {
   "cell_type": "markdown",
   "metadata": {},
   "source": [
    "几个ratio ：  \n",
    "- dividend ratio: $ d = \\frac{div}{total income }$\n",
    "- plowback :  $b = 1-d $\n",
    "- growth rate: $g= ROE *b $\n",
    "- Price-dividend ratio:  $P_D =\\frac{1+g}{R−g}$\n",
    "- Price-earnings ratio:  $P_E =\\frac{(1−b)}{R−g}$\n",
    "    \n",
    "- Price-to-book ratio\n",
    "- Price-to-sales ratio"
   ]
  }
 ],
 "metadata": {
  "kernelspec": {
   "display_name": "Python 2",
   "language": "python",
   "name": "python2"
  },
  "language_info": {
   "codemirror_mode": {
    "name": "ipython",
    "version": 2
   },
   "file_extension": ".py",
   "mimetype": "text/x-python",
   "name": "python",
   "nbconvert_exporter": "python",
   "pygments_lexer": "ipython2",
   "version": "2.7.11"
  }
 },
 "nbformat": 4,
 "nbformat_minor": 2
}
