{
 "cells": [
  {
   "cell_type": "markdown",
   "metadata": {},
   "source": [
    "# FFM  Lecture 7  Fixed Income Valuation \n",
    "\n",
    "- Bond Pricing\n",
    "- Term Structure of Interest Rates\n",
    "- Duration and Convexity\n",
    "- Fixed Income Portfolio Management\n"
   ]
  },
  {
   "cell_type": "markdown",
   "metadata": {},
   "source": [
    "Fixed Income Securitie :  \n",
    "-    Bonds are fixed income securities.\n",
    "Face (par) value: \n",
    "- payment at maturity\n",
    "Coupon payments: \n",
    "- regular interest payments.\n",
    "## Bond Pricing \n",
    "\n",
    "$$P_0 =\\sum_{t=1}^{T} \\frac{C_t}{(1 + r_{0,t})^t}+\\frac{FV_T}{(1 + r_{0,t})^T}$$\n",
    "\n",
    "- $P_0$ = Current value of the bond (at time 0)\n",
    "- $C_t $= Coupon payment at time t\n",
    "- $FV_T$ = Face Value at maturity T.\n",
    "- $r_{0,t}$ = Current interest rate for investments maturing at time t.\n",
    "\n",
    "\n",
    "### Yield to Maturity:  \n",
    "- the discount rate that sets the value equal to the price.\n",
    "\n",
    "$P_0 =\\sum_{t=1}^{T} \\frac{C_t}{(1 + y)^t}+\\frac{FV_T}{(1 + y)^T}$\n",
    "\n",
    "- Bonds at different maturities may have different yields.\n",
    "- Term structure of yields - the yield curve!\n",
    "- P stands for price   \n",
    "\n",
    "到期收益率  \n",
    "到期收益率 (Yield To Maturity，简称YTM)，又称“满期收益率”、“到期殖利率”（简称为殖利率）\n",
    "\n",
    "什么是到期收益率  \n",
    "所谓到期收益，是指将债券持有到偿还期所获得的收益，包括到期的全部利息。到期收益率又称最终收益率，是投资购买国债的内部收益率，即可以使投资购买国债获得的未来现金流量的现值等于债券当前市价的贴现率。\n",
    "\n",
    "它相当于投资者按照当前市场价格购买并且一直持有到满期，同时再投资率（市场利率）保持不变时可以获得的年平均收益率。\n",
    "\n",
    "举例说明：[1]\n",
    "\n",
    "　　例题：如果票面金额为1000元的两年期债券，第一年支付60元利息，第二年支付50元利息，现在的市场价格为950元，求该债券的到期收益率为多少？\n",
    "\n",
    "　　$$ 950=\\frac{60}{(1+r)}+\\frac{50}{(1+r)^2}+\\frac{1000}{(1+r)^2}$$\n",
    "\n",
    "　　$$YTM=r=8.34%$$"
   ]
  },
  {
   "cell_type": "markdown",
   "metadata": {},
   "source": [
    "# Forward Interest Rate\n",
    "The forward rate is the inferred rate from the yield curve.\n",
    " \n",
    "远期汇率（forward rate）  \n",
    "\n",
    "远期汇率概述[1]   \n",
    "　　远期汇率（英文：forward rate；德文：Devisenterminkurs）又称期汇汇率，是指外汇买卖成交后，在未来的某个确定时间内办理交割手续的外汇交易所使用的汇率。  \n",
    "　　远期外汇汇率与即期外汇汇率是有差额的，这种差额叫远期差价，用升水、贴水或平价来表示。升水表示远期汇率比即期汇率高，贴水则反之，平价表示二者相等。  \n",
    "\n",
    "由于对汇率的标价方法不同，按远期差价计算汇率的方法也不相同。在直接标价法下，远期差价为升水则用即期汇率加上升水数等于远期汇率。若远期差价为贴水，则用即期汇率减去贴水数即等于远期汇率。  \n",
    "　　例如：某日法兰克福市场上美元对欧元的即期汇率为：1美元=0.7428~0.7432欧元\n",
    "\n",
    "　　1个月后远期差价贴水为0.0100~0.0095，升水为0.0095~0.0100，那么，若1个月贴水，则1个月远期汇率为：\n",
    "\n",
    "　　1美元=0.7328~0.7337\n",
    "\n",
    "　　欧元若1个月升水，则1个月远期汇率为：\n",
    "\n",
    "　　1美元=0.7523~0.7532欧元\n",
    "\n",
    "即期汇率与远期汇率[2]  \n",
    "即期汇率是指外汇买卖达成协议后，在两个工作日内办理收付时使用的汇率，也就是买卖即期外汇的价格。  \n",
    "远期汇率是指外汇买卖达成协议时并不发生立即的收付行为，而是在约定的某一将来时间按照约定汇率再进行实际收付时的汇率。  \n",
    "远期汇率高于即期汇率的差额叫升水，远期汇率低于即期汇率的差额叫贴水，两者相等的叫平价。  \n",
    "值得指出的是，远期汇率并非未来的即期汇率。远期汇率是预先由买卖双方在合同规定的，是不能改变的。而未来的即期汇率则是现实的市场汇率，它可能上升也可能下跌，因此可能会高于、低于或等于远期汇率。远期汇率与未来到期时的即期汇率之间的差额表现为单面远期交易的盈亏。例如，某客户按1英镑=1.5010美元的远期汇率向银行卖出10万英镑的3个月期汇，假定3个月后到期时的即期汇率为1英镑=1.5030美元，则他在这笔远期交易中亏损了200美元(不考虑两种货币的利差)。如果到期时的即期汇率为1英镑=1.5000美元，则该客户盈利100美元。[3]  \n",
    "  "
   ]
  },
  {
   "cell_type": "markdown",
   "metadata": {},
   "source": [
    "即期利率(Spot Rate)  \n",
    "什么是即期利率  \n",
    "即期利率是指债券票面所标明的利率或购买债券时所获得的折价收益与债券面值的比率。它是某一给定时点上无息证券的到期收益率。  \n",
    "\n",
    "债券有两种基本类型：有息债券和无息债券。购买政府发行的有息债券，在债券到期后，债券持有人可以从政府得到连本带利的一次性支付，这种一次性所得收益与本金的比率就是即期利率。购买政府发行的无息债券，投资者可以低于票面价值的价格获得，债券到期后，债券持有人可按票面价值获得一次性的支付，这种购入价格的折扣额相对于票面价值的比率则是即期利率。"
   ]
  },
  {
   "cell_type": "markdown",
   "metadata": {},
   "source": [
    "$ (1 + r_{0,2})^2 = (1 + r_{0,1})(1 + f_{1,2}) $ \n",
    "- $r_{0,1}$ Spot interest rate for investments with a one-year maturity.\n",
    "- $r_{0,2}$ Spot interest rate for investments with a two-year maturity.\n",
    "- $f_{1,2}$ Forward interest rate for one year investments starting in one year.\n",
    " "
   ]
  },
  {
   "cell_type": "markdown",
   "metadata": {},
   "source": [
    "## Term Structure Theory\n",
    "\n",
    "### 1. Expectations Theory\n",
    "Pure Expectation Theory: Pure expectation is the simplest and most direct of the three theories. The theory explains the yield curve in terms of expected **short-term rates**. It is based on the idea that **the two-year yield is equal to a one-year bond today plus the expected return on a one-year bond purchased one year from today**. The one weakness of this theory is that it assumes that investors have no preference when it comes to different maturities and the risks associated with them.\n",
    "### 2. Liquidity Preference Theory  \n",
    "Liquidity Preference Theory: This theory states that investors want to be compensated for interest rate risk that is associated with long-term issues. **Because of the longer maturity, there is a greater price volatility associated with these securities. The structure is determined by the future expectations of rates and the yield premium for interest-rate risk.** Because interest-rate risk increases with maturity, the yield premium will also increase with maturity. Also know as the Biased Expectations Theory.\n",
    "\n",
    "10年国债比3年国债 利息大 。 因为 风险越大  \n",
    "### 3. Market Segmentation Theory  \n",
    "Market Segmentation Theory: This theory** deals with the supply and demand in a certain maturity sector**, which determines the interest rates for that sector. It can be used to explain just about every type of yield curve an investor can came across in the market. An offshoot to this theory is that if an investor wants to go out of his sector, he'll want to be compensated for taking on that additional risk. This is known as the Preferred Habitat Theory.\n",
    " \n"
   ]
  },
  {
   "cell_type": "markdown",
   "metadata": {},
   "source": [
    "## Duration \n",
    "Duration is a measure of the sensitivity of the price\n",
    "\n",
    "$$ D = − \\frac{dP}{dy}\\frac{1 + y}{ P} =\\sum_{t=1}^{T} w_t \\times t $$  \n",
    "where $w_t = \\frac{Cashflow_t}{P(1 + y)^t} $\n",
    "- Sensitivity of bond prices to interest rates.\n",
    "- Bonds with longer durations react more.\n",
    "- Weighted average maturity of the bond.\n",
    "- Weight depends on the relative importance of each cashflow.\n",
    "- Duration of a portfolio is the weighted sum of component durations.\n",
    "- An equally weighted portfolio of three assets with durations 3.5, 2.3,\n",
    "and 7.1\n",
    "$ D¯ = 1/3*(3.5 + 2.3 + 7.1) = 4.3$  \n",
    "\n",
    "\n",
    " # Duration 的 推导\n",
    " \n",
    " $$ P  = \\sum_{t=1}^{n} \\frac{CF}{(1+y)^t} + \\frac{FV}{(1+y)^n}$$\n",
    " $$ \\frac{\\partial P}{\\partial y} = - t*\\sum \\frac{CF}{(1+y)^{t+1}} - \\frac{FV}{(1+y)^{n+1}}$$\n",
    " 两边乘 同乘 $\\frac{1+y}{P}$  \n",
    " 就得到 $$ D = − \\frac{dP}{dy}\\frac{1 + y}{ P} =\\sum_{t=1}^{T} w_t \\times t $$    \n",
    "# dv / v Convexity 公式 \n",
    "## Convexity \n",
    "Convexity accounts for the curvature:\n",
    "$$ C =\\frac{\\frac{d^2V}{dy^2}}{V}= \\frac{1}{(1+y)^2}[\\sum_{t=1}^{T}(t + t^2) \\frac{PV(C_t)}{V} + (T + T^2) \\frac{PV(FVT )}{V}]$$\n",
    "\n",
    "\n"
   ]
  },
  {
   "cell_type": "code",
   "execution_count": 1,
   "metadata": {
    "collapsed": true
   },
   "outputs": [],
   "source": [
    "import tensorflow as tf "
   ]
  }
 ],
 "metadata": {
  "kernelspec": {
   "display_name": "Python 2",
   "language": "python",
   "name": "python2"
  },
  "language_info": {
   "codemirror_mode": {
    "name": "ipython",
    "version": 2
   },
   "file_extension": ".py",
   "mimetype": "text/x-python",
   "name": "python",
   "nbconvert_exporter": "python",
   "pygments_lexer": "ipython2",
   "version": "2.7.11"
  }
 },
 "nbformat": 4,
 "nbformat_minor": 2
}
